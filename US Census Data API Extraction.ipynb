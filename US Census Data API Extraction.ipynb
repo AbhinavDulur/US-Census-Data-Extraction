{
 "cells": [
  {
   "cell_type": "markdown",
   "metadata": {},
   "source": [
    "# US Census Data API Extraction"
   ]
  },
  {
   "cell_type": "markdown",
   "metadata": {},
   "source": [
    "The objective of this file is to obtain information demographic information about a particular zipcode by using the U.S. Census Data API's. The end goal is to enter a zipcode and retrieve associated information.\n",
    "\n",
    "- API Usage Tutorial:\n",
    "https://www.dataquest.io/blog/python-api-tutorial/\n",
    "\n",
    "- U.S. Census Data:\n",
    "https://www.census.gov/data/developers/data-sets/acs-5year.html\n",
    "\n",
    "- Variables for the Census API (over 64,000 available):\n",
    "https://api.census.gov/data/2018/acs/acs5/variables.html\n",
    "\n",
    "We will use the 2018 U.S. Census Data. The following is a brief description from their website:\n",
    "\n",
    "*The American Community Survey (ACS) is an ongoing survey that provides data every year -- giving communities the current information they need to plan investments and services. The ACS covers a broad range of topics about social, economic, demographic, and housing characteristics of the U.S. population.*"
   ]
  },
  {
   "cell_type": "code",
   "execution_count": 1,
   "metadata": {},
   "outputs": [],
   "source": [
    "import os\n",
    "import requests\n",
    "import pandas as pd\n",
    "import json\n",
    "\n",
    "#This key was requested on the U.S. Census data website\n",
    "key = 'KEY'"
   ]
  },
  {
   "cell_type": "code",
   "execution_count": 5,
   "metadata": {},
   "outputs": [],
   "source": [
    "#There variables are selected from the U.S. Census data link above - further variables can be added as needed\n",
    "total_population = \"B01003_001E\"\n",
    "median_income = \"B06011_001E\"\n",
    "\n",
    "variable_name = ['total_population', 'median_income']\n",
    "variable_key = [total_population, median_income]\n"
   ]
  },
  {
   "cell_type": "code",
   "execution_count": 21,
   "metadata": {},
   "outputs": [
    {
     "name": "stdout",
     "output_type": "stream",
     "text": [
      "zip_code 08525 has a  total_population of 4788\n",
      "zip_code 08525 has a  median_income of 55000\n"
     ]
    }
   ],
   "source": [
    "zip_code = '08525'\n",
    "\n",
    "for i in range(len(variable_name)):\n",
    "    \n",
    "    URL = \"https://api.census.gov/data/2018/acs/acs5?key=\" + key + \"&get=\" + variable_key[i] + \"&for=zip%20code%20tabulation%20area:\" + zip_code\n",
    "\n",
    "    response = requests.get(URL)\n",
    "\n",
    "    print(\"zip_code\", zip_code, \"has a \", variable_name[i], \"of\", response.json()[1][0])"
   ]
  },
  {
   "cell_type": "code",
   "execution_count": null,
   "metadata": {},
   "outputs": [],
   "source": []
  }
 ],
 "metadata": {
  "kernelspec": {
   "display_name": "Python 3",
   "language": "python",
   "name": "python3"
  },
  "language_info": {
   "codemirror_mode": {
    "name": "ipython",
    "version": 3
   },
   "file_extension": ".py",
   "mimetype": "text/x-python",
   "name": "python",
   "nbconvert_exporter": "python",
   "pygments_lexer": "ipython3",
   "version": "3.7.3"
  }
 },
 "nbformat": 4,
 "nbformat_minor": 2
}
